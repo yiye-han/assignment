{
 "cells": [
  {
   "cell_type": "markdown",
   "id": "e3f35dff-fd70-4504-8642-f4a6502e4524",
   "metadata": {},
   "source": [
    "# Data Science Tools and Ecosystem"
   ]
  },
  {
   "cell_type": "markdown",
   "id": "ddaa5348-81c1-47f6-a785-8f9add47a6f7",
   "metadata": {},
   "source": [
    "In this notebook, Data Science Tools and Ecosystem are summarized."
   ]
  },
  {
   "cell_type": "markdown",
   "id": "cd28170a-85ad-46a7-a2d6-9de19f083cc1",
   "metadata": {
    "tags": []
   },
   "source": [
    "Some of the popular languages that Data Scientists use are:\n",
    "    \n",
    "    1.  Python\n",
    "    2.  R\n",
    "    3.  C++"
   ]
  },
  {
   "cell_type": "markdown",
   "id": "2331c293-b88f-43bc-9e64-4745ced166b7",
   "metadata": {},
   "source": [
    "Some of the commonly used libraries used by Data Scientists include:\n",
    "    \n",
    "    1.  ggplot\n",
    "    2.  dlpyr\n",
    "    3.  Gglly"
   ]
  },
  {
   "cell_type": "markdown",
   "id": "fa2b1caf-3827-4e94-89ca-1fc8fdadc676",
   "metadata": {},
   "source": [
    "| Data Science Tools|\n",
    "|-------------------|\n",
    "|Git                |\n",
    "|Jupyter            |\n",
    "|Waston             |"
   ]
  },
  {
   "cell_type": "markdown",
   "id": "6c8244d7-4e17-447f-acb2-6cdc19dd5262",
   "metadata": {},
   "source": [
    "###Below are a few examples of evaluating arithmetic expressions in Python"
   ]
  },
  {
   "cell_type": "code",
   "execution_count": 9,
   "id": "fb512420-c5d4-4e6a-8558-ebab8ad6f80f",
   "metadata": {
    "tags": []
   },
   "outputs": [
    {
     "data": {
      "text/plain": [
       "17"
      ]
     },
     "execution_count": 9,
     "metadata": {},
     "output_type": "execute_result"
    }
   ],
   "source": [
    "# This a simple arithmetic expression to mutiply then add integers\n",
    "(3*4)+5"
   ]
  },
  {
   "cell_type": "code",
   "execution_count": 13,
   "id": "b8958cb0-13c8-4a0c-a186-7649ae458372",
   "metadata": {
    "tags": []
   },
   "outputs": [
    {
     "name": "stdout",
     "output_type": "stream",
     "text": [
      "3.33 hours\n"
     ]
    }
   ],
   "source": [
    "# This will convert 200 minutes to hours by diving by 60\n",
    "df = 200/60\n",
    "print(f'{round(df,2)} hours')"
   ]
  },
  {
   "cell_type": "markdown",
   "id": "479ebac8-7c1a-4dd4-992e-d162017ef6c1",
   "metadata": {
    "tags": []
   },
   "source": [
    "_Objectives:_\n",
    " + List popular languages for Data Science\n",
    " + List popular tools for Data Science\n",
    " + List popular environments for Data Science"
   ]
  },
  {
   "cell_type": "markdown",
   "id": "96c7b208-2087-4b78-a16c-364f22e9c4ef",
   "metadata": {},
   "source": [
    "## Author\n",
    "\n",
    "Yiye Han"
   ]
  },
  {
   "cell_type": "code",
   "execution_count": null,
   "id": "08569cdf-c15c-4ad5-8fd0-2d7d78735184",
   "metadata": {},
   "outputs": [],
   "source": []
  }
 ],
 "metadata": {
  "kernelspec": {
   "display_name": "Python",
   "language": "python",
   "name": "conda-env-python-py"
  },
  "language_info": {
   "codemirror_mode": {
    "name": "ipython",
    "version": 3
   },
   "file_extension": ".py",
   "mimetype": "text/x-python",
   "name": "python",
   "nbconvert_exporter": "python",
   "pygments_lexer": "ipython3",
   "version": "3.7.12"
  }
 },
 "nbformat": 4,
 "nbformat_minor": 5
}
